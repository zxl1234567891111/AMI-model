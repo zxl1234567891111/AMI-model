{
 "cells": [
  {
   "cell_type": "code",
   "execution_count": 5,
   "id": "9b42ccad-9f0e-47aa-941c-067c9469c62b",
   "metadata": {},
   "outputs": [],
   "source": [
    "import pandas as pd\n",
    "import seaborn as sns\n",
    "import matplotlib.pyplot as plt\n",
    "\n",
    "# Read Dataset\n",
    "df = pd.read_excel(r'AMI-DATA.xlsx')"
   ]
  },
  {
   "cell_type": "code",
   "execution_count": 7,
   "id": "515369ad-d639-42f7-a4fa-739ef5e727ff",
   "metadata": {},
   "outputs": [
    {
     "name": "stdout",
     "output_type": "stream",
     "text": [
      "Total number of samples: 6100\n"
     ]
    }
   ],
   "source": [
    "# Total number of samples (excluding the header row)\n",
    "total_samples = df.shape[0]\n",
    "print(f\"Total number of samples: {total_samples}\")"
   ]
  },
  {
   "cell_type": "code",
   "execution_count": 9,
   "id": "f7be566d-55d7-4f89-9013-68930dd01339",
   "metadata": {},
   "outputs": [
    {
     "name": "stdout",
     "output_type": "stream",
     "text": [
      "Remaining number of samples after filtering: 4087\n"
     ]
    }
   ],
   "source": [
    "# Identify the last four important features\n",
    "important_features = ['NT_proBNP', 'cTnI', 'CK-MB', 'MYO']\n",
    "\n",
    "# Remove samples where three or more of the last four important features are missing\n",
    "df = df[df[important_features].isnull().sum(axis=1) < 3]\n",
    "\n",
    "# Remove samples where five or more features are missing\n",
    "df = df[df.isnull().sum(axis=1) < 5]\n",
    "\n",
    "# Total number of samples after filtering\n",
    "remaining_samples = df.shape[0]\n",
    "print(f\"Remaining number of samples after filtering: {remaining_samples}\")"
   ]
  },
  {
   "cell_type": "code",
   "execution_count": null,
   "id": "2c9f12f7-9f2e-43b2-b643-5bc433713066",
   "metadata": {},
   "outputs": [],
   "source": [
    "from missingpy import MissForest\n",
    "\n",
    "# Initialize the MissForest imputer\n",
    "imputer = MissForest(random_state=42)\n",
    "\n",
    "# Fit the imputer to the dataset and transform it\n",
    "df_imputed = imputer.fit_transform(df)\n",
    "\n",
    "# Convert the result back to a DataFrame\n",
    "df_imputed = pd.DataFrame(df_imputed, columns=df.columns)\n",
    "\n",
    "# Save the imputed dataset to a new Excel file\n",
    "df_imputed.to_excel('AMI-DATA-imputed.xlsx', index=False)"
   ]
  }
 ],
 "metadata": {
  "kernelspec": {
   "display_name": "Python [conda env:test_1]",
   "language": "python",
   "name": "conda-env-test_1-py"
  },
  "language_info": {
   "codemirror_mode": {
    "name": "ipython",
    "version": 3
   },
   "file_extension": ".py",
   "mimetype": "text/x-python",
   "name": "python",
   "nbconvert_exporter": "python",
   "pygments_lexer": "ipython3",
   "version": "3.9.21"
  }
 },
 "nbformat": 4,
 "nbformat_minor": 5
}
